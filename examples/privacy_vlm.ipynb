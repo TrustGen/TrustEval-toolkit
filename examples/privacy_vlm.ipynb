{
 "cells": [
  {
   "cell_type": "code",
   "execution_count": null,
   "metadata": {},
   "outputs": [],
   "source": [
    "import os\n",
    "import sys\n",
    "import nest_asyncio\n",
    "parent_dir = os.path.dirname(os.getcwd())\n",
    "sys.path.append(parent_dir)\n",
    "from trusteval.dimension.privacy.privacy_vlm import pipeline\n",
    "nest_asyncio.apply()\n",
    "base_dir = \"./test/privacy/\"\n",
    "os.makedirs(base_dir, exist_ok=True)"
   ]
  },
  {
   "cell_type": "code",
   "execution_count": null,
   "metadata": {},
   "outputs": [],
   "source": [
    "from trusteval import download_metadata\n",
    "download_metadata(\n",
    "    section='privacy_vlm',\n",
    "    output_path=base_dir\n",
    ")"
   ]
  },
  {
   "cell_type": "code",
   "execution_count": null,
   "metadata": {},
   "outputs": [],
   "source": [
    "pipeline.pipeline(base_dir=base_dir)"
   ]
  },
  {
   "cell_type": "code",
   "execution_count": null,
   "metadata": {},
   "outputs": [],
   "source": [
    "from trusteval.src.response_generator.lm_response import generate_responses\n",
    "import shutil\n",
    "source_config = \"../section/privacy/privacy_vlm/file_config.json\"\n",
    "target_config = os.path.join(base_dir,\"output\",\"file_config.json\")\n",
    "\n",
    "if os.path.exists(source_config):\n",
    "    shutil.copy2(source_config, target_config)\n",
    "    print(f\"Successfully copied file_config to {target_config}\")\n",
    "else:\n",
    "    print(\"Warning: Source file_config not found\")\n",
    "    \n",
    "data_folder  = os.path.join(base_dir,\"output\")\n",
    "model_list = [\n",
    "    'gpt-4o']\n",
    "\n",
    "await generate_responses(\n",
    "        data_folder=data_folder,\n",
    "        request_type=\"vlm\",\n",
    "        async_list=model_list,\n",
    "        prompt_key=\"prompt\",\n",
    "        result_key=\"responses\",\n",
    "        image_key=\"image_path\"\n",
    "    )"
   ]
  },
  {
   "cell_type": "code",
   "execution_count": null,
   "metadata": {},
   "outputs": [],
   "source": [
    "from trusteval.src.evaluation import judge_responses\n",
    "\n",
    "config_path = os.path.join(parent_dir, 'trusteval/src/config/judge_prompt.yaml')\n",
    "async_judge_model = ['gpt-4o-mini']\n",
    "response_key = ['responses']\n",
    "judge_key = 'judge'\n",
    "judge_type='vlm'\n",
    "\n",
    "await judge_responses(\n",
    "        data_folder=data_folder,\n",
    "        async_judge_model=async_judge_model,\n",
    "        target_models=model_list,\n",
    "        judge_type=judge_type\n",
    "    )"
   ]
  },
  {
   "cell_type": "code",
   "execution_count": null,
   "metadata": {},
   "outputs": [],
   "source": [
    "from trusteval.src.evaluation import lm_metric\n",
    "\n",
    "lm_metric(\n",
    "    base_dir=data_folder,\n",
    "    aspect=\"privacy_vlm\",\n",
    "    model_list=model_list\n",
    ")"
   ]
  }
 ],
 "metadata": {
  "kernelspec": {
   "display_name": "api",
   "language": "python",
   "name": "python3"
  },
  "language_info": {
   "codemirror_mode": {
    "name": "ipython",
    "version": 3
   },
   "file_extension": ".py",
   "mimetype": "text/x-python",
   "name": "python",
   "nbconvert_exporter": "python",
   "pygments_lexer": "ipython3",
   "version": "3.10.14"
  }
 },
 "nbformat": 4,
 "nbformat_minor": 2
}
