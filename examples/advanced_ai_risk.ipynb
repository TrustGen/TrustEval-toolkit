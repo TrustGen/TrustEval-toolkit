{
 "cells": [
  {
   "cell_type": "markdown",
   "metadata": {},
   "source": [
    "## Advanced AI Risk"
   ]
  },
  {
   "cell_type": "code",
   "execution_count": 1,
   "metadata": {},
   "outputs": [],
   "source": [
    "import os\n",
    "import sys\n",
    "import nest_asyncio\n",
    "nest_asyncio.apply()\n",
    "\n",
    "parent_dir = os.path.dirname(os.getcwd())\n",
    "base_dir = os.getcwd() + '/advanced_ai_risk'\n",
    "sys.path.append(parent_dir)"
   ]
  },
  {
   "cell_type": "code",
   "execution_count": null,
   "metadata": {},
   "outputs": [],
   "source": [
    "from trusteval import download_metadata\n",
    "\n",
    "download_metadata(\n",
    "    section='advanced_ai_risk',\n",
    "    output_path=base_dir\n",
    ")"
   ]
  },
  {
   "cell_type": "code",
   "execution_count": null,
   "metadata": {},
   "outputs": [],
   "source": [
    "from trusteval.dimension.ai_risk import dynamic_dataset_generator\n",
    "\n",
    "dynamic_dataset_generator(\n",
    "    base_dir=base_dir,\n",
    ")"
   ]
  },
  {
   "cell_type": "code",
   "execution_count": null,
   "metadata": {},
   "outputs": [],
   "source": [
    "from trusteval import contextual_variator_cli\n",
    "\n",
    "contextual_variator_cli(\n",
    "    dataset_folder=base_dir\n",
    ")"
   ]
  },
  {
   "cell_type": "code",
   "execution_count": null,
   "metadata": {},
   "outputs": [],
   "source": [
    "from trusteval import generate_responses\n",
    "\n",
    "request_type = ['llm']\n",
    "async_list = ['qwq-32B', 'o1-mini', 'o1-preview']\n",
    "sync_list = []\n",
    "\n",
    "await generate_responses(\n",
    "    data_folder=base_dir,\n",
    "    request_type=request_type,\n",
    "    async_list=async_list,\n",
    "    sync_list=sync_list,\n",
    ")"
   ]
  },
  {
   "cell_type": "code",
   "execution_count": null,
   "metadata": {},
   "outputs": [],
   "source": [
    "from trusteval import judge_responses\n",
    "\n",
    "target_models = ['qwq-32B', 'o1-mini', 'o1-preview']\n",
    "judge_type = 'llm'\n",
    "judge_key = 'toxicity' if judge_type == 'toxicity' else 'judge'\n",
    "async_judge_model = ['gpt-4o-mini']\n",
    "\n",
    "await judge_responses(\n",
    "    data_folder=base_dir,\n",
    "    async_judge_model=async_judge_model,\n",
    "    target_models=target_models,\n",
    "    judge_type=judge_type,\n",
    ")"
   ]
  },
  {
   "cell_type": "code",
   "execution_count": null,
   "metadata": {},
   "outputs": [],
   "source": [
    "from trusteval import lm_metric\n",
    "\n",
    "lm_metric(\n",
    "    base_dir=base_dir,\n",
    "    aspect='ai_risk',\n",
    "    model_list=target_models,\n",
    ")"
   ]
  },
  {
   "cell_type": "code",
   "execution_count": null,
   "metadata": {},
   "outputs": [],
   "source": [
    "from trusteval import report_generator\n",
    "\n",
    "report_generator(\n",
    "    base_dir=base_dir,\n",
    "    aspect='Advanced AI Risk',\n",
    "    model_type='llm',\n",
    "    \n",
    ")"
   ]
  }
 ],
 "metadata": {
  "kernelspec": {
   "display_name": "dl",
   "language": "python",
   "name": "python3"
  },
  "language_info": {
   "codemirror_mode": {
    "name": "ipython",
    "version": 3
   },
   "file_extension": ".py",
   "mimetype": "text/x-python",
   "name": "python",
   "nbconvert_exporter": "python",
   "pygments_lexer": "ipython3",
   "version": "3.9.19"
  }
 },
 "nbformat": 4,
 "nbformat_minor": 2
}
