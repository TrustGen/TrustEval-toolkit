{
 "cells": [
  {
   "cell_type": "code",
   "execution_count": 1,
   "metadata": {},
   "outputs": [
    {
     "name": "stderr",
     "output_type": "stream",
     "text": [
      "e:\\software\\AnaConda\\envs\\api\\lib\\site-packages\\tqdm\\auto.py:21: TqdmWarning: IProgress not found. Please update jupyter and ipywidgets. See https://ipywidgets.readthedocs.io/en/stable/user_install.html\n",
      "  from .autonotebook import tqdm as notebook_tqdm\n"
     ]
    }
   ],
   "source": [
    "import os\n",
    "import sys\n",
    "import nest_asyncio\n",
    "nest_asyncio.apply()\n",
    "parent_dir = os.path.dirname(os.getcwd())\n",
    "sys.path.append(parent_dir)\n",
    "from trusteval.dimension.privacy.privacy_llm import pipeline\n",
    "base_dir = \"./test/privacy/\"\n",
    "\n",
    "os.makedirs(base_dir, exist_ok=True)"
   ]
  },
  {
   "cell_type": "code",
   "execution_count": null,
   "metadata": {},
   "outputs": [
    {
     "name": "stdout",
     "output_type": "stream",
     "text": [
      "\n",
      "Executing run_whole.py...\n",
      "\n",
      "=== Starting run_whole.py in d:\\paper\\TrustEval-toolkit\\trusteval\\dimension\\privacy\\privacy_llm\\test_case_builder ===\n"
     ]
    }
   ],
   "source": [
    "\n",
    "pipeline.pipeline(base_dir=base_dir)"
   ]
  },
  {
   "cell_type": "code",
   "execution_count": null,
   "metadata": {},
   "outputs": [],
   "source": [
    "from trusteval.src.response_generator.lm_response import generate_responses\n",
    "import shutil\n",
    "source_config = \"../trusteval/dimension/privacy/privacy_llm/file_config.json\"\n",
    "target_config = os.path.join(base_dir,\"final\",\"file_config.json\")\n",
    "\n",
    "if os.path.exists(source_config):\n",
    "    shutil.copy2(source_config, target_config)\n",
    "    print(f\"Successfully copied file_config to {target_config}\")\n",
    "else:\n",
    "    print(\"Warning: Source file_config not found\")\n",
    "    \n",
    "data_folder  = os.path.join(base_dir,\"final\")\n",
    "async_list = ['o1-preview','o1-mini','qwq-32B']\n",
    "await generate_responses(\n",
    "        data_folder=data_folder,\n",
    "        request_type=\"llm\",\n",
    "        async_list=async_list,\n",
    "        prompt_key=\"enhanced_prompt\",\n",
    "        result_key=\"responses\"\n",
    "    )\n",
    "\n",
    "print(\"All files processed.\")"
   ]
  },
  {
   "cell_type": "code",
   "execution_count": 5,
   "metadata": {},
   "outputs": [
    {
     "name": "stdout",
     "output_type": "stream",
     "text": [
      "Processing file: Rephrased_malicious_law.json with task type: RQ\n",
      "File ./test/privacy/final\\Rephrased_malicious_law_responses_judge.json already exists. Loading existing responses.\n"
     ]
    },
    {
     "name": "stderr",
     "output_type": "stream",
     "text": [
      "100%|██████████| 200/200 [03:03<00:00,  1.09it/s]\n"
     ]
    },
    {
     "name": "stdout",
     "output_type": "stream",
     "text": [
      "Results saved to ./test/privacy/final\\Rephrased_malicious_law_responses_judge.json\n",
      "Processing file: Rephrased_malicious_organization.json with task type: RQ\n",
      "File ./test/privacy/final\\Rephrased_malicious_organization_responses_judge.json already exists. Loading existing responses.\n"
     ]
    },
    {
     "name": "stderr",
     "output_type": "stream",
     "text": [
      "100%|██████████| 146/146 [02:17<00:00,  1.06it/s]\n"
     ]
    },
    {
     "name": "stdout",
     "output_type": "stream",
     "text": [
      "Results saved to ./test/privacy/final\\Rephrased_malicious_organization_responses_judge.json\n",
      "Processing file: Rephrased_malicious_people.json with task type: RQ\n",
      "File ./test/privacy/final\\Rephrased_malicious_people_responses_judge.json already exists. Loading existing responses.\n"
     ]
    },
    {
     "name": "stderr",
     "output_type": "stream",
     "text": [
      "100%|██████████| 164/164 [02:14<00:00,  1.22it/s]"
     ]
    },
    {
     "name": "stdout",
     "output_type": "stream",
     "text": [
      "Results saved to ./test/privacy/final\\Rephrased_malicious_people_responses_judge.json\n"
     ]
    },
    {
     "name": "stderr",
     "output_type": "stream",
     "text": [
      "\n"
     ]
    }
   ],
   "source": [
    "from trusteval.src.evaluation import judge_responses\n",
    "\n",
    "config_path = os.path.join(parent_dir, 'trusteval/src/config/judge_prompt.yaml')\n",
    "async_judge_model = ['gpt-4o-mini']\n",
    "response_key = ['responses']\n",
    "judge_key = 'judge'\n",
    "judge_type='llm'\n",
    "await judge_responses(\n",
    "        data_folder=data_folder,\n",
    "        async_judge_model=async_judge_model,\n",
    "        target_models=async_list,\n",
    "        judge_type=judge_type\n",
    "    )"
   ]
  },
  {
   "cell_type": "code",
   "execution_count": 8,
   "metadata": {},
   "outputs": [
    {
     "name": "stderr",
     "output_type": "stream",
     "text": [
      "Processing privacy llm metrics: 100%|██████████| 200/200 [00:00<00:00, 199728.76it/s]\n",
      "Processing privacy llm metrics: 100%|██████████| 146/146 [00:00<00:00, 146115.10it/s]\n",
      "Processing privacy llm metrics: 100%|██████████| 164/164 [00:00<?, ?it/s]"
     ]
    },
    {
     "name": "stdout",
     "output_type": "stream",
     "text": [
      "Failed to write CSV file ./test/privacy/final\\privacy_llm_metrics.csv: dict contains fields not in fieldnames: 'privacy_llm_ratio_combined'\n"
     ]
    },
    {
     "name": "stderr",
     "output_type": "stream",
     "text": [
      "\n"
     ]
    }
   ],
   "source": [
    "from trusteval.src.evaluation import lm_metric\n",
    "async_list = ['o1-preview','o1-mini','qwq-32B']\n",
    "\n",
    "lm_metric(\n",
    "    base_dir=data_folder,\n",
    "    aspect=\"privacy_llm\",\n",
    "    model_list=async_list\n",
    ")"
   ]
  }
 ],
 "metadata": {
  "kernelspec": {
   "display_name": "api",
   "language": "python",
   "name": "python3"
  },
  "language_info": {
   "codemirror_mode": {
    "name": "ipython",
    "version": 3
   },
   "file_extension": ".py",
   "mimetype": "text/x-python",
   "name": "python",
   "nbconvert_exporter": "python",
   "pygments_lexer": "ipython3",
   "version": "3.10.14"
  }
 },
 "nbformat": 4,
 "nbformat_minor": 2
}
