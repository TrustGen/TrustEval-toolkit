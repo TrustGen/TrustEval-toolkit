{
 "cells": [
  {
   "cell_type": "code",
   "execution_count": null,
   "metadata": {},
   "outputs": [],
   "source": [
    "import os\n",
    "import sys\n",
    "import nest_asyncio\n",
    "\n",
    "nest_asyncio.apply()\n",
    "parent_dir = os.path.dirname(os.getcwd())\n",
    "base_dir = os.getcwd() + '/truthfulness_vlm'\n",
    "sys.path.append(parent_dir)\n",
    "\n",
    "import trusteval\n",
    "base_dirs = [f'{base_dir}/autohallusion', f'{base_dir}/hallusionbench']"
   ]
  },
  {
   "cell_type": "code",
   "execution_count": null,
   "metadata": {},
   "outputs": [],
   "source": [
    "trusteval.download_metadata(\n",
    "    section='truthfulness_vlm',\n",
    "    output_path=base_dir\n",
    ")"
   ]
  },
  {
   "cell_type": "code",
   "execution_count": null,
   "metadata": {},
   "outputs": [],
   "source": [
    "for dir in base_dirs:\n",
    "    trusteval.contextual_variator_cli(\n",
    "        dataset_folder=dir\n",
    "    )"
   ]
  },
  {
   "cell_type": "code",
   "execution_count": null,
   "metadata": {},
   "outputs": [],
   "source": [
    "request_type = ['vlm']\n",
    "async_list = ['gpt-4o-mini', 'gpt-4o']\n",
    "image_key = ['image_urls']\n",
    "\n",
    "for dir in base_dirs:\n",
    "    await trusteval.generate_responses(\n",
    "        data_folder=dir,\n",
    "        request_type=request_type,\n",
    "        async_list=async_list,\n",
    "        image_key=image_key\n",
    "    )"
   ]
  },
  {
   "cell_type": "code",
   "execution_count": null,
   "metadata": {},
   "outputs": [],
   "source": [
    "async_judge_model = ['gpt-4o-mini']\n",
    "response_key = ['responses']\n",
    "judge_key = 'judge'\n",
    "judge_type='vlm'\n",
    "\n",
    "for dir in base_dirs:\n",
    "    await trusteval.judge_responses(\n",
    "        data_folder=dir,\n",
    "        async_judge_model=async_judge_model,\n",
    "        target_models=async_list,\n",
    "        judge_type=judge_type\n",
    "    )"
   ]
  },
  {
   "cell_type": "code",
   "execution_count": null,
   "metadata": {},
   "outputs": [],
   "source": [
    "from trusteval.src.evaluation import lm_metric\n",
    "\n",
    "for dir in base_dirs:\n",
    "    lm_metric(\n",
    "        base_dir=dir,\n",
    "        aspect='truthfulness_vlm',\n",
    "        model_list=async_list\n",
    "    )"
   ]
  },
  {
   "cell_type": "code",
   "execution_count": null,
   "metadata": {},
   "outputs": [],
   "source": [
    "for dir in base_dirs:\n",
    "    trusteval.report_generator(\n",
    "        base_dir=dir,\n",
    "        model_type='vlm',\n",
    "        aspect='Truthfulness',\n",
    "    )"
   ]
  }
 ],
 "metadata": {
  "kernelspec": {
   "display_name": "dl",
   "language": "python",
   "name": "python3"
  },
  "language_info": {
   "codemirror_mode": {
    "name": "ipython",
    "version": 3
   },
   "file_extension": ".py",
   "mimetype": "text/x-python",
   "name": "python",
   "nbconvert_exporter": "python",
   "pygments_lexer": "ipython3",
   "version": "3.9.19"
  }
 },
 "nbformat": 4,
 "nbformat_minor": 2
}
