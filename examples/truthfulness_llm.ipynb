{
 "cells": [
  {
   "cell_type": "markdown",
   "metadata": {},
   "source": [
    "## Truthfullness LLM\n",
    "### Metadata Curator"
   ]
  },
  {
   "cell_type": "code",
   "execution_count": 1,
   "metadata": {},
   "outputs": [],
   "source": [
    "import os\n",
    "import sys\n",
    "import nest_asyncio\n",
    "\n",
    "nest_asyncio.apply()\n",
    "parent_dir = os.path.dirname(os.getcwd())\n",
    "base_dir = os.getcwd() + '/truthfulness_llm'\n",
    "sys.path.append(parent_dir)"
   ]
  },
  {
   "cell_type": "markdown",
   "metadata": {},
   "source": [
    "### Download and build the dataset_pool"
   ]
  },
  {
   "cell_type": "code",
   "execution_count": null,
   "metadata": {},
   "outputs": [],
   "source": [
    "from trusteval import download_metadata\n",
    "\n",
    "download_metadata(\n",
    "    section='truthfulness_llm',\n",
    "    output_path=base_dir\n",
    ")"
   ]
  },
  {
   "cell_type": "code",
   "execution_count": null,
   "metadata": {},
   "outputs": [],
   "source": [
    "from trusteval.dimension.truthfulness.truthfulness_llm import dynamic_dataset_generator\n",
    "\n",
    "dynamic_dataset_generator(\n",
    "    base_dir=base_dir,\n",
    "    mode='dataset_pool'\n",
    ")\n",
    "dynamic_dataset_generator(\n",
    "    base_dir=base_dir,\n",
    "    mode='dynamic'\n",
    ")"
   ]
  },
  {
   "cell_type": "markdown",
   "metadata": {},
   "source": [
    "### Contexual Variator"
   ]
  },
  {
   "cell_type": "code",
   "execution_count": null,
   "metadata": {},
   "outputs": [],
   "source": [
    "from trusteval import contextual_variator_cli\n",
    "\n",
    "contextual_variator_cli(\n",
    "    dataset_folder=base_dir + '/final'\n",
    ")"
   ]
  },
  {
   "cell_type": "markdown",
   "metadata": {},
   "source": [
    "### Response Generator"
   ]
  },
  {
   "cell_type": "code",
   "execution_count": null,
   "metadata": {},
   "outputs": [],
   "source": [
    "from trusteval import generate_responses\n",
    "\n",
    "request_type = ['llm']\n",
    "data_folder = base_dir + '/final'\n",
    "async_list = ['gpt-4o-mini', 'llama-3.1-8B']\n",
    "sync_list = []\n",
    "\n",
    "await generate_responses(\n",
    "    data_folder=data_folder,\n",
    "    request_type=request_type,\n",
    "    async_list=async_list,\n",
    "    sync_list=sync_list,\n",
    ")"
   ]
  },
  {
   "cell_type": "markdown",
   "metadata": {},
   "source": [
    "### Judge Processor"
   ]
  },
  {
   "cell_type": "code",
   "execution_count": null,
   "metadata": {},
   "outputs": [],
   "source": [
    "from trusteval import judge_responses\n",
    "\n",
    "data_folder = base_dir + '/final'\n",
<<<<<<< HEAD
    "target_models = []\n",
=======
    "target_models = ['llama-3.1-8B', 'gpt-4o-mini']\n",
>>>>>>> 6e5fe5dede809ecbcef8cd6572552283e0f20130
    "judge_type = 'llm'\n",
    "async_judge_model = ['gpt-4o-mini']\n",
    "\n",
    "await judge_responses(\n",
    "    data_folder=data_folder,\n",
    "    async_judge_model=async_judge_model,\n",
    "    target_models=target_models,\n",
    "    judge_type=judge_type,\n",
    ")"
   ]
  },
  {
   "cell_type": "code",
   "execution_count": null,
   "metadata": {},
   "outputs": [],
   "source": [
    "from trusteval.dimension.truthfulness.truthfulness_llm.evaluate import run, merge_results\n",
    "\n",
    "run(base_dir + '/final/')\n",
    "merge_results(base_dir + '/final/')"
   ]
  },
  {
   "cell_type": "code",
   "execution_count": null,
   "metadata": {},
   "outputs": [],
   "source": [
    "from trusteval import report_generator\n",
    "\n",
    "report_generator(\n",
    "    base_dir=base_dir,\n",
    "    model_type='llm',\n",
    "    aspect='Truthfulness'\n",
    ")"
   ]
  }
 ],
 "metadata": {
  "kernelspec": {
   "display_name": "dl",
   "language": "python",
   "name": "python3"
  },
  "language_info": {
   "codemirror_mode": {
    "name": "ipython",
    "version": 3
   },
   "file_extension": ".py",
   "mimetype": "text/x-python",
   "name": "python",
   "nbconvert_exporter": "python",
   "pygments_lexer": "ipython3",
   "version": "3.9.19"
  }
 },
 "nbformat": 4,
 "nbformat_minor": 2
}
