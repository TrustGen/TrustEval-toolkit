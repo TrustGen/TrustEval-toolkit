{
 "cells": [
  {
   "cell_type": "code",
   "execution_count": 1,
   "metadata": {},
   "outputs": [],
   "source": [
    "import os\n",
    "import sys\n",
    "import nest_asyncio\n",
    "nest_asyncio.apply()\n",
    "\n",
    "parent_dir = os.path.dirname(os.getcwd())\n",
    "base_dir = os.getcwd() + '/safety_vlm'\n",
    "sys.path.append(parent_dir)\n",
    "\n",
    "import trusteval"
   ]
  },
  {
   "cell_type": "code",
   "execution_count": 2,
   "metadata": {},
   "outputs": [
    {
     "name": "stdout",
     "output_type": "stream",
     "text": [
      "Created directory: d:\\Paper\\TrustEval-toolkit\\examples/safety_vlm\n",
      "Downloading dataset for section: safety_vlm\n"
     ]
    },
    {
     "name": "stderr",
     "output_type": "stream",
     "text": [
      "Downloading...\n",
      "From: https://drive.google.com/uc?id=1cR5dEQbc0nTYkXGhksm_p_GWnNwr2QHJ\n",
      "To: d:\\Paper\\TrustEval-toolkit\\examples\\safety_vlm\\tmp.zip\n",
      "100%|██████████| 172k/172k [00:00<00:00, 574kB/s]"
     ]
    },
    {
     "name": "stdout",
     "output_type": "stream",
     "text": [
      "Extracting dataset to: d:\\Paper\\TrustEval-toolkit\\examples/safety_vlm\n",
      "Removing temporary zip file: d:\\Paper\\TrustEval-toolkit\\examples/safety_vlm\\tmp.zip\n",
      "\u001b[92mDataset for section 'safety_vlm' has been downloaded and extracted to 'd:\\Paper\\TrustEval-toolkit\\examples/safety_vlm'\u001b[0m\n"
     ]
    },
    {
     "name": "stderr",
     "output_type": "stream",
     "text": [
      "\n"
     ]
    }
   ],
   "source": [
    "trusteval.download_metadata(\n",
    "    section='safety_vlm',\n",
    "    output_path=base_dir,\n",
    ")"
   ]
  },
  {
   "cell_type": "code",
   "execution_count": null,
   "metadata": {},
   "outputs": [],
   "source": [
    "from trusteval.dimension.safety.safety_vlm import dynamic_dataset_generator\n",
    "\n",
    "dynamic_dataset_generator( \n",
    "    base_dir=base_dir\n",
    ")"
   ]
  },
  {
   "cell_type": "code",
   "execution_count": null,
   "metadata": {},
   "outputs": [],
   "source": [
    "request_type = ['vlm']\n",
    "async_list = ['gpt-4o-mini', 'gpt-4o']\n",
    "image_key = ['image_urls']\n",
    "prompt_key = ['transformed_query']\n",
    "\n",
    "await trusteval.generate_responses(\n",
    "    data_folder=base_dir + '/final',\n",
    "    request_type=request_type,\n",
    "    async_list=async_list,\n",
    "    image_key=image_key,\n",
    "    prompt_key=prompt_key,\n",
    ")"
   ]
  },
  {
   "cell_type": "code",
   "execution_count": null,
   "metadata": {},
   "outputs": [],
   "source": [
    "async_judge_model = ['gpt-4o-mini']\n",
    "response_key = ['responses']\n",
    "judge_key = 'judge'\n",
    "judge_type='vlm'\n",
    "\n",
    "await trusteval.judge_responses(\n",
    "    data_folder=base_dir + '/final',\n",
    "    async_judge_model=async_judge_model,\n",
    "    target_models=async_list,\n",
    "    judge_type=judge_type,\n",
    ")"
   ]
  },
  {
   "cell_type": "code",
   "execution_count": null,
   "metadata": {},
   "outputs": [],
   "source": [
    "from trusteval.src.evaluation import lm_metric\n",
    "\n",
    "lm_metric(\n",
    "    base_dir=base_dir + '/final',\n",
    "    aspect='safety_vlm',\n",
    "    model_list=async_list\n",
    ")"
   ]
  }
 ],
 "metadata": {
  "kernelspec": {
   "display_name": "dl",
   "language": "python",
   "name": "python3"
  },
  "language_info": {
   "codemirror_mode": {
    "name": "ipython",
    "version": 3
   },
   "file_extension": ".py",
   "mimetype": "text/x-python",
   "name": "python",
   "nbconvert_exporter": "python",
   "pygments_lexer": "ipython3",
   "version": "3.9.19"
  }
 },
 "nbformat": 4,
 "nbformat_minor": 2
}
