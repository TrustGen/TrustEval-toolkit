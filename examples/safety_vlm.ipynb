{
 "cells": [
  {
   "cell_type": "code",
   "execution_count": 1,
   "metadata": {},
   "outputs": [],
   "source": [
    "import os\n",
    "import sys\n",
    "import nest_asyncio\n",
    "nest_asyncio.apply()\n",
    "\n",
    "parent_dir = os.path.dirname(os.getcwd())\n",
    "base_dir = os.getcwd() + '/safety_vlm'\n",
    "sys.path.append(parent_dir)"
   ]
  },
  {
   "cell_type": "code",
   "execution_count": 5,
   "metadata": {},
   "outputs": [
    {
     "name": "stdout",
     "output_type": "stream",
     "text": [
      "Created directory: d:\\Paper\\TrustEval-toolkit\\examples/safety_vlm\n",
      "Downloading dataset for section: safety_vlm\n"
     ]
    },
    {
     "name": "stderr",
     "output_type": "stream",
     "text": [
      "Downloading...\n",
      "From: https://drive.google.com/uc?id=1cR5dEQbc0nTYkXGhksm_p_GWnNwr2QHJ\n",
      "To: d:\\Paper\\TrustEval-toolkit\\examples\\safety_vlm\\tmp.zip\n",
      "100%|██████████| 171k/171k [00:00<00:00, 1.40MB/s]"
     ]
    },
    {
     "name": "stdout",
     "output_type": "stream",
     "text": [
      "Extracting dataset to: d:\\Paper\\TrustEval-toolkit\\examples/safety_vlm\n",
      "Removing temporary zip file: d:\\Paper\\TrustEval-toolkit\\examples/safety_vlm\\tmp.zip\n",
      "\u001b[92mDataset for section 'safety_vlm' has been downloaded and extracted to 'd:\\Paper\\TrustEval-toolkit\\examples/safety_vlm'\u001b[0m\n"
     ]
    },
    {
     "name": "stderr",
     "output_type": "stream",
     "text": [
      "\n"
     ]
    }
   ],
   "source": [
    "from trusteval import download_metadata\n",
    "\n",
    "download_metadata(\n",
    "    section='safety_vlm',\n",
    "    output_path=base_dir,\n",
    ")"
   ]
  },
  {
   "cell_type": "code",
   "execution_count": 2,
   "metadata": {},
   "outputs": [
    {
     "name": "stdout",
     "output_type": "stream",
     "text": [
      "d:\\Paper\\TrustEval-toolkit\\trusteval\n"
     ]
    },
    {
     "name": "stderr",
     "output_type": "stream",
     "text": [
      "Running tasks:   0%|          | 0/5 [00:00<?, ?it/s]"
     ]
    },
    {
     "name": "stdout",
     "output_type": "stream",
     "text": [
      "0\n",
      "Traceback (most recent call last):\n",
      "  File \"d:\\Paper\\TrustEval-toolkit\\trusteval\\src\\generation\\utils\\tools.py\", line 21, in wrapper_retry\n",
      "    result = func(*args, **kwargs)\n",
      "  File \"d:\\Paper\\TrustEval-toolkit\\trusteval\\src\\generation\\model_service.py\", line 178, in process\n",
      "    return self._process_single(prompt, **kwargs)\n",
      "  File \"d:\\Paper\\TrustEval-toolkit\\trusteval\\src\\generation\\model_service.py\", line 123, in _process_single\n",
      "    return request.send_request(handler)\n",
      "  File \"d:\\Paper\\TrustEval-toolkit\\trusteval\\src\\generation\\requests\\llm_request.py\", line 5, in send_request\n",
      "    return request_handler.handle_request(self)\n",
      "  File \"d:\\Paper\\TrustEval-toolkit\\trusteval\\src\\generation\\handlers\\api_handler.py\", line 103, in handle_request\n",
      "    client = self.get_client(request.model_name, is_async=False)\n",
      "  File \"d:\\Paper\\TrustEval-toolkit\\trusteval\\src\\generation\\handlers\\api_handler.py\", line 35, in get_client\n",
      "    sdk_config = self.config[sdk_type]\n",
      "KeyError: 'OPENAI'\n",
      "\n",
      "Retrying (1/3) in 1 seconds...\n",
      "Traceback (most recent call last):\n",
      "  File \"d:\\Paper\\TrustEval-toolkit\\trusteval\\src\\generation\\utils\\tools.py\", line 21, in wrapper_retry\n",
      "    result = func(*args, **kwargs)\n",
      "  File \"d:\\Paper\\TrustEval-toolkit\\trusteval\\src\\generation\\model_service.py\", line 178, in process\n",
      "    return self._process_single(prompt, **kwargs)\n",
      "  File \"d:\\Paper\\TrustEval-toolkit\\trusteval\\src\\generation\\model_service.py\", line 123, in _process_single\n",
      "    return request.send_request(handler)\n",
      "  File \"d:\\Paper\\TrustEval-toolkit\\trusteval\\src\\generation\\requests\\llm_request.py\", line 5, in send_request\n",
      "    return request_handler.handle_request(self)\n",
      "  File \"d:\\Paper\\TrustEval-toolkit\\trusteval\\src\\generation\\handlers\\api_handler.py\", line 103, in handle_request\n",
      "    client = self.get_client(request.model_name, is_async=False)\n",
      "  File \"d:\\Paper\\TrustEval-toolkit\\trusteval\\src\\generation\\handlers\\api_handler.py\", line 35, in get_client\n",
      "    sdk_config = self.config[sdk_type]\n",
      "KeyError: 'OPENAI'\n",
      "\n",
      "Retrying (2/3) in 1.1 seconds...\n"
     ]
    },
    {
     "name": "stderr",
     "output_type": "stream",
     "text": [
      "Running tasks:  20%|██        | 1/5 [00:02<00:08,  2.13s/it]"
     ]
    },
    {
     "name": "stdout",
     "output_type": "stream",
     "text": [
      "Traceback (most recent call last):\n",
      "  File \"d:\\Paper\\TrustEval-toolkit\\trusteval\\src\\generation\\utils\\tools.py\", line 21, in wrapper_retry\n",
      "    result = func(*args, **kwargs)\n",
      "  File \"d:\\Paper\\TrustEval-toolkit\\trusteval\\src\\generation\\model_service.py\", line 178, in process\n",
      "    return self._process_single(prompt, **kwargs)\n",
      "  File \"d:\\Paper\\TrustEval-toolkit\\trusteval\\src\\generation\\model_service.py\", line 123, in _process_single\n",
      "    return request.send_request(handler)\n",
      "  File \"d:\\Paper\\TrustEval-toolkit\\trusteval\\src\\generation\\requests\\llm_request.py\", line 5, in send_request\n",
      "    return request_handler.handle_request(self)\n",
      "  File \"d:\\Paper\\TrustEval-toolkit\\trusteval\\src\\generation\\handlers\\api_handler.py\", line 103, in handle_request\n",
      "    client = self.get_client(request.model_name, is_async=False)\n",
      "  File \"d:\\Paper\\TrustEval-toolkit\\trusteval\\src\\generation\\handlers\\api_handler.py\", line 35, in get_client\n",
      "    sdk_config = self.config[sdk_type]\n",
      "KeyError: 'OPENAI'\n",
      "\n",
      "None\n",
      "1\n",
      "JailbreakInPieces_main completed\n"
     ]
    },
    {
     "name": "stderr",
     "output_type": "stream",
     "text": [
      "100%|██████████| 1/1 [00:00<00:00, 26.88it/s]\n",
      "Running tasks:  20%|██        | 1/5 [00:02<00:08,  2.17s/it]"
     ]
    },
    {
     "name": "stdout",
     "output_type": "stream",
     "text": [
      "Model gpt-4o-mini failed with error: 'OPENAI'\n",
      "Traceback (most recent call last):\n",
      "  File \"d:\\Paper\\TrustEval-toolkit\\trusteval\\src\\generation\\utils\\tools.py\", line 53, in wrapper_retry\n",
      "    result = await func(*args, **kwargs)\n",
      "  File \"d:\\Paper\\TrustEval-toolkit\\trusteval\\src\\generation\\model_service.py\", line 187, in process_async\n",
      "    return await self._process_single_async(prompt, **kwargs)\n",
      "  File \"d:\\Paper\\TrustEval-toolkit\\trusteval\\src\\generation\\model_service.py\", line 135, in _process_single_async\n",
      "    return await request.send_request_async(handler)\n",
      "  File \"d:\\Paper\\TrustEval-toolkit\\trusteval\\src\\generation\\requests\\llm_request.py\", line 8, in send_request_async\n",
      "    return await request_handler.handle_request_async(self)\n",
      "  File \"d:\\Paper\\TrustEval-toolkit\\trusteval\\src\\generation\\handlers\\api_handler.py\", line 109, in handle_request_async\n",
      "    client = self.get_client(request.model_name, is_async=True)\n",
      "  File \"d:\\Paper\\TrustEval-toolkit\\trusteval\\src\\generation\\handlers\\api_handler.py\", line 35, in get_client\n",
      "    sdk_config = self.config[sdk_type]\n",
      "KeyError: 'OPENAI'\n",
      "\n",
      "Model gpt-4o-mini failed with error: 'OPENAI'\n",
      "Traceback (most recent call last):\n",
      "  File \"d:\\Paper\\TrustEval-toolkit\\trusteval\\dimension\\safety\\safety_vlm\\Aspect1_FigStep.py\", line 167, in figstep\n",
      "    raise Exception(\"Failed to rephrase instruction\")\n",
      "Exception: Failed to rephrase instruction\n",
      "\n",
      "During handling of the above exception, another exception occurred:\n",
      "\n",
      "Traceback (most recent call last):\n",
      "  File \"d:\\Paper\\TrustEval-toolkit\\trusteval\\src\\generation\\utils\\tools.py\", line 53, in wrapper_retry\n",
      "    result = await func(*args, **kwargs)\n",
      "  File \"d:\\Paper\\TrustEval-toolkit\\trusteval\\src\\generation\\model_service.py\", line 187, in process_async\n",
      "    return await self._process_single_async(prompt, **kwargs)\n",
      "  File \"d:\\Paper\\TrustEval-toolkit\\trusteval\\src\\generation\\model_service.py\", line 135, in _process_single_async\n",
      "    return await request.send_request_async(handler)\n",
      "  File \"d:\\Paper\\TrustEval-toolkit\\trusteval\\src\\generation\\requests\\llm_request.py\", line 8, in send_request_async\n",
      "    return await request_handler.handle_request_async(self)\n",
      "  File \"d:\\Paper\\TrustEval-toolkit\\trusteval\\src\\generation\\handlers\\api_handler.py\", line 109, in handle_request_async\n",
      "    client = self.get_client(request.model_name, is_async=True)\n",
      "  File \"d:\\Paper\\TrustEval-toolkit\\trusteval\\src\\generation\\handlers\\api_handler.py\", line 35, in get_client\n",
      "    sdk_config = self.config[sdk_type]\n",
      "KeyError: 'OPENAI'\n",
      "\n"
     ]
    },
    {
     "name": "stderr",
     "output_type": "stream",
     "text": [
      "\n"
     ]
    },
    {
     "ename": "FileNotFoundError",
     "evalue": "[Errno 2] No such file or directory: 'd:\\\\Paper\\\\TrustEval-toolkit\\\\examples/safety_vlm\\\\final/FigStep.json'",
     "output_type": "error",
     "traceback": [
      "\u001b[1;31m---------------------------------------------------------------------------\u001b[0m",
      "\u001b[1;31mFileNotFoundError\u001b[0m                         Traceback (most recent call last)",
      "Cell \u001b[1;32mIn[2], line 3\u001b[0m\n\u001b[0;32m      1\u001b[0m \u001b[38;5;28;01mfrom\u001b[39;00m \u001b[38;5;21;01mtrusteval\u001b[39;00m\u001b[38;5;21;01m.\u001b[39;00m\u001b[38;5;21;01mdimension\u001b[39;00m\u001b[38;5;21;01m.\u001b[39;00m\u001b[38;5;21;01msafety\u001b[39;00m\u001b[38;5;21;01m.\u001b[39;00m\u001b[38;5;21;01msafety_vlm\u001b[39;00m \u001b[38;5;28;01mimport\u001b[39;00m dynamic_dataset_generator\n\u001b[1;32m----> 3\u001b[0m \u001b[43mdynamic_dataset_generator\u001b[49m\u001b[43m(\u001b[49m\n\u001b[0;32m      4\u001b[0m \u001b[43m    \u001b[49m\u001b[43mbase_dir\u001b[49m\u001b[38;5;241;43m=\u001b[39;49m\u001b[43mbase_dir\u001b[49m\u001b[43m,\u001b[49m\n\u001b[0;32m      5\u001b[0m \u001b[43m)\u001b[49m\n",
      "File \u001b[1;32md:\\Paper\\TrustEval-toolkit\\trusteval\\dimension\\safety\\safety_vlm\\pipeline.py:18\u001b[0m, in \u001b[0;36mmain\u001b[1;34m(base_dir)\u001b[0m\n\u001b[0;32m      9\u001b[0m tasks \u001b[38;5;241m=\u001b[39m [\n\u001b[0;32m     10\u001b[0m     (\u001b[38;5;124m\"\u001b[39m\u001b[38;5;124mJailbreakInPieces_main\u001b[39m\u001b[38;5;124m\"\u001b[39m, JailbreakInPieces_main),\n\u001b[0;32m     11\u001b[0m     (\u001b[38;5;124m\"\u001b[39m\u001b[38;5;124mfigstep_main\u001b[39m\u001b[38;5;124m\"\u001b[39m, figstep_main),\n\u001b[1;32m   (...)\u001b[0m\n\u001b[0;32m     14\u001b[0m     (\u001b[38;5;124m\"\u001b[39m\u001b[38;5;124mVisualAdvEx_main\u001b[39m\u001b[38;5;124m\"\u001b[39m, VisualAdvEx_main)\n\u001b[0;32m     15\u001b[0m ]\n\u001b[0;32m     17\u001b[0m \u001b[38;5;28;01mfor\u001b[39;00m task_name, task_func \u001b[38;5;129;01min\u001b[39;00m tqdm(tasks, desc\u001b[38;5;241m=\u001b[39m\u001b[38;5;124m\"\u001b[39m\u001b[38;5;124mRunning tasks\u001b[39m\u001b[38;5;124m\"\u001b[39m):\n\u001b[1;32m---> 18\u001b[0m     \u001b[43mtask_func\u001b[49m\u001b[43m(\u001b[49m\u001b[43mbase_dir\u001b[49m\u001b[38;5;241;43m=\u001b[39;49m\u001b[43mbase_dir\u001b[49m\u001b[43m,\u001b[49m\u001b[43m \u001b[49m\u001b[43minitialize\u001b[49m\u001b[38;5;241;43m=\u001b[39;49m\u001b[38;5;28;43;01mTrue\u001b[39;49;00m\u001b[43m)\u001b[49m\n\u001b[0;32m     19\u001b[0m     \u001b[38;5;28mprint\u001b[39m(\u001b[38;5;124mf\u001b[39m\u001b[38;5;124m\"\u001b[39m\u001b[38;5;132;01m{\u001b[39;00mtask_name\u001b[38;5;132;01m}\u001b[39;00m\u001b[38;5;124m completed\u001b[39m\u001b[38;5;124m\"\u001b[39m)\n",
      "File \u001b[1;32md:\\Paper\\TrustEval-toolkit\\trusteval\\dimension\\safety\\safety_vlm\\Aspect1_FigStep.py:217\u001b[0m, in \u001b[0;36mmain\u001b[1;34m(base_dir, initialize)\u001b[0m\n\u001b[0;32m    216\u001b[0m \u001b[38;5;28;01mdef\u001b[39;00m \u001b[38;5;21mmain\u001b[39m(base_dir\u001b[38;5;241m=\u001b[39m\u001b[38;5;28;01mNone\u001b[39;00m, initialize\u001b[38;5;241m=\u001b[39m\u001b[38;5;28;01mFalse\u001b[39;00m):\n\u001b[1;32m--> 217\u001b[0m     \u001b[43masyncio\u001b[49m\u001b[38;5;241;43m.\u001b[39;49m\u001b[43mget_event_loop\u001b[49m\u001b[43m(\u001b[49m\u001b[43m)\u001b[49m\u001b[38;5;241;43m.\u001b[39;49m\u001b[43mrun_until_complete\u001b[49m\u001b[43m(\u001b[49m\u001b[43mmain_async\u001b[49m\u001b[43m(\u001b[49m\u001b[43mbase_dir\u001b[49m\u001b[43m,\u001b[49m\u001b[43m \u001b[49m\u001b[43minitialize\u001b[49m\u001b[43m)\u001b[49m\u001b[43m)\u001b[49m\n",
      "File \u001b[1;32md:\\CS\\Anaconda\\envs\\dl\\lib\\site-packages\\nest_asyncio.py:98\u001b[0m, in \u001b[0;36m_patch_loop.<locals>.run_until_complete\u001b[1;34m(self, future)\u001b[0m\n\u001b[0;32m     95\u001b[0m \u001b[38;5;28;01mif\u001b[39;00m \u001b[38;5;129;01mnot\u001b[39;00m f\u001b[38;5;241m.\u001b[39mdone():\n\u001b[0;32m     96\u001b[0m     \u001b[38;5;28;01mraise\u001b[39;00m \u001b[38;5;167;01mRuntimeError\u001b[39;00m(\n\u001b[0;32m     97\u001b[0m         \u001b[38;5;124m'\u001b[39m\u001b[38;5;124mEvent loop stopped before Future completed.\u001b[39m\u001b[38;5;124m'\u001b[39m)\n\u001b[1;32m---> 98\u001b[0m \u001b[38;5;28;01mreturn\u001b[39;00m \u001b[43mf\u001b[49m\u001b[38;5;241;43m.\u001b[39;49m\u001b[43mresult\u001b[49m\u001b[43m(\u001b[49m\u001b[43m)\u001b[49m\n",
      "File \u001b[1;32md:\\CS\\Anaconda\\envs\\dl\\lib\\asyncio\\futures.py:201\u001b[0m, in \u001b[0;36mFuture.result\u001b[1;34m(self)\u001b[0m\n\u001b[0;32m    199\u001b[0m \u001b[38;5;28mself\u001b[39m\u001b[38;5;241m.\u001b[39m__log_traceback \u001b[38;5;241m=\u001b[39m \u001b[38;5;28;01mFalse\u001b[39;00m\n\u001b[0;32m    200\u001b[0m \u001b[38;5;28;01mif\u001b[39;00m \u001b[38;5;28mself\u001b[39m\u001b[38;5;241m.\u001b[39m_exception \u001b[38;5;129;01mis\u001b[39;00m \u001b[38;5;129;01mnot\u001b[39;00m \u001b[38;5;28;01mNone\u001b[39;00m:\n\u001b[1;32m--> 201\u001b[0m     \u001b[38;5;28;01mraise\u001b[39;00m \u001b[38;5;28mself\u001b[39m\u001b[38;5;241m.\u001b[39m_exception\n\u001b[0;32m    202\u001b[0m \u001b[38;5;28;01mreturn\u001b[39;00m \u001b[38;5;28mself\u001b[39m\u001b[38;5;241m.\u001b[39m_result\n",
      "File \u001b[1;32md:\\CS\\Anaconda\\envs\\dl\\lib\\asyncio\\tasks.py:256\u001b[0m, in \u001b[0;36mTask.__step\u001b[1;34m(***failed resolving arguments***)\u001b[0m\n\u001b[0;32m    252\u001b[0m \u001b[38;5;28;01mtry\u001b[39;00m:\n\u001b[0;32m    253\u001b[0m     \u001b[38;5;28;01mif\u001b[39;00m exc \u001b[38;5;129;01mis\u001b[39;00m \u001b[38;5;28;01mNone\u001b[39;00m:\n\u001b[0;32m    254\u001b[0m         \u001b[38;5;66;03m# We use the `send` method directly, because coroutines\u001b[39;00m\n\u001b[0;32m    255\u001b[0m         \u001b[38;5;66;03m# don't have `__iter__` and `__next__` methods.\u001b[39;00m\n\u001b[1;32m--> 256\u001b[0m         result \u001b[38;5;241m=\u001b[39m \u001b[43mcoro\u001b[49m\u001b[38;5;241;43m.\u001b[39;49m\u001b[43msend\u001b[49m\u001b[43m(\u001b[49m\u001b[38;5;28;43;01mNone\u001b[39;49;00m\u001b[43m)\u001b[49m\n\u001b[0;32m    257\u001b[0m     \u001b[38;5;28;01melse\u001b[39;00m:\n\u001b[0;32m    258\u001b[0m         result \u001b[38;5;241m=\u001b[39m coro\u001b[38;5;241m.\u001b[39mthrow(exc)\n",
      "File \u001b[1;32md:\\Paper\\TrustEval-toolkit\\trusteval\\dimension\\safety\\safety_vlm\\Aspect1_FigStep.py:214\u001b[0m, in \u001b[0;36mmain_async\u001b[1;34m(base_dir, initialize)\u001b[0m\n\u001b[0;32m    211\u001b[0m     harmful_dicts[index]\u001b[38;5;241m.\u001b[39mupdate(result)\n\u001b[0;32m    212\u001b[0m     figstep_json\u001b[38;5;241m.\u001b[39mappend(harmful_dicts[index])\n\u001b[1;32m--> 214\u001b[0m json\u001b[38;5;241m.\u001b[39mdump(figstep_json, \u001b[38;5;28;43mopen\u001b[39;49m\u001b[43m(\u001b[49m\u001b[43mget_relative_path\u001b[49m\u001b[43m(\u001b[49m\u001b[38;5;124;43m'\u001b[39;49m\u001b[38;5;124;43mfinal/FigStep.json\u001b[39;49m\u001b[38;5;124;43m'\u001b[39;49m\u001b[43m)\u001b[49m\u001b[43m,\u001b[49m\u001b[43m \u001b[49m\u001b[38;5;124;43m'\u001b[39;49m\u001b[38;5;124;43mw\u001b[39;49m\u001b[38;5;124;43m'\u001b[39;49m\u001b[43m,\u001b[49m\u001b[43m \u001b[49m\u001b[43mencoding\u001b[49m\u001b[38;5;241;43m=\u001b[39;49m\u001b[38;5;124;43m'\u001b[39;49m\u001b[38;5;124;43mutf-8\u001b[39;49m\u001b[38;5;124;43m'\u001b[39;49m\u001b[43m)\u001b[49m, indent\u001b[38;5;241m=\u001b[39m\u001b[38;5;241m4\u001b[39m)\n",
      "\u001b[1;31mFileNotFoundError\u001b[0m: [Errno 2] No such file or directory: 'd:\\\\Paper\\\\TrustEval-toolkit\\\\examples/safety_vlm\\\\final/FigStep.json'"
     ]
    }
   ],
   "source": [
    "from trusteval.dimension.safety.safety_vlm import dynamic_dataset_generator\n",
    "\n",
    "dynamic_dataset_generator(\n",
    "    base_dir=base_dir,\n",
    ")"
   ]
  }
 ],
 "metadata": {
  "kernelspec": {
   "display_name": "dl",
   "language": "python",
   "name": "python3"
  },
  "language_info": {
   "codemirror_mode": {
    "name": "ipython",
    "version": 3
   },
   "file_extension": ".py",
   "mimetype": "text/x-python",
   "name": "python",
   "nbconvert_exporter": "python",
   "pygments_lexer": "ipython3",
   "version": "3.9.19"
  }
 },
 "nbformat": 4,
 "nbformat_minor": 2
}
