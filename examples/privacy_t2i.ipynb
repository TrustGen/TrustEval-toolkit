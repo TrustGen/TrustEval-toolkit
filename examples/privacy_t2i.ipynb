{
 "cells": [
  {
   "cell_type": "markdown",
   "metadata": {},
   "source": [
    "## Privacy T2I"
   ]
  },
  {
   "cell_type": "code",
   "execution_count": 1,
   "metadata": {},
   "outputs": [],
   "source": [
    "import os\n",
    "import sys\n",
    "import nest_asyncio\n",
    "nest_asyncio.apply()\n",
    "parent_dir = os.path.dirname(os.getcwd())\n",
    "sys.path.append(parent_dir)\n",
    "from trusteval import download_dataset\n",
    "from trusteval.dimension.privacy.privacy_t2i import dynamic_dataset_generator\n",
    "\n",
    "aspect='privacy'\n",
    "base_dir = os.getcwd() + f'/{aspect}_t2i'\n",
    "local_models = []\n",
    "api_models = ['dalle3', 'flux-1.1-pro']\n",
    "target_models = ['dalle3', 'flux-1.1-pro']"
   ]
  },
  {
   "cell_type": "code",
   "execution_count": null,
   "metadata": {},
   "outputs": [],
   "source": [
    "download_dataset(\n",
    "    section=f'{aspect}_t2i',\n",
    "    output_path=base_dir\n",
    ")"
   ]
  },
  {
   "cell_type": "code",
   "execution_count": null,
   "metadata": {},
   "outputs": [],
   "source": [
    "dynamic_dataset_generator(\n",
    "    base_dir=base_dir\n",
    ")"
   ]
  },
  {
   "cell_type": "code",
   "execution_count": null,
   "metadata": {},
   "outputs": [],
   "source": [
    "from trusteval import generate_images\n",
    "\n",
    "generate_images(\n",
    "    base_dir=base_dir,\n",
    "    aspect=aspect,\n",
    "    local_models=local_models,\n",
    "    api_models=api_models,\n",
    ")"
   ]
  },
  {
   "cell_type": "code",
   "execution_count": null,
   "metadata": {},
   "outputs": [],
   "source": [
    "from trusteval import judge_images\n",
    "judge_images(\n",
    "    base_dir=base_dir,\n",
    "    aspect=aspect,\n",
    "    target_models=target_models,\n",
    ")"
   ]
  },
  {
   "cell_type": "code",
   "execution_count": null,
   "metadata": {},
   "outputs": [],
   "source": [
    "from trusteval import t2i_metric\n",
    "t2i_metric(\n",
    "    base_dir=base_dir,\n",
    "    aspect=aspect,\n",
    "    target_models=target_models,\n",
    ")"
   ]
  },
  {
   "cell_type": "code",
   "execution_count": null,
   "metadata": {},
   "outputs": [],
   "source": [
    "from trusteval import report_generator\n",
    "report_generator(\n",
    "    base_dir=base_dir,\n",
    "    model_type='t2i',\n",
    "    aspect='Privacy',\n",
    ")"
   ]
  }
 ],
 "metadata": {
  "kernelspec": {
   "display_name": "dl",
   "language": "python",
   "name": "python3"
  },
  "language_info": {
   "codemirror_mode": {
    "name": "ipython",
    "version": 3
   },
   "file_extension": ".py",
   "mimetype": "text/x-python",
   "name": "python",
   "nbconvert_exporter": "python",
   "pygments_lexer": "ipython3",
   "version": "3.9.19"
  }
 },
 "nbformat": 4,
 "nbformat_minor": 2
}
