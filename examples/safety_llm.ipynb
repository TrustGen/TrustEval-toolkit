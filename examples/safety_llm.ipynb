{
 "cells": [
  {
   "cell_type": "markdown",
   "metadata": {},
   "source": [
    "## Safety LLM\n",
    "### Metadata Curator"
   ]
  },
  {
   "cell_type": "code",
   "execution_count": 1,
   "metadata": {},
   "outputs": [],
   "source": [
    "import os\n",
    "import sys\n",
    "import nest_asyncio\n",
    "\n",
    "nest_asyncio.apply()\n",
    "parent_dir = os.path.dirname(os.getcwd())\n",
    "base_dir = os.getcwd() + '/safety_llm'\n",
    "sys.path.append(parent_dir)"
   ]
  },
  {
   "cell_type": "markdown",
   "metadata": {},
   "source": [
    "### Download and build the dataset_pool"
   ]
  },
  {
   "cell_type": "code",
   "execution_count": 3,
   "metadata": {},
   "outputs": [
    {
     "name": "stdout",
     "output_type": "stream",
     "text": [
      "Downloading dataset for section: safety_llm\n"
     ]
    },
    {
     "name": "stderr",
     "output_type": "stream",
     "text": [
      "Downloading...\n",
      "From: https://drive.google.com/uc?id=1xYn51Xn4wWwmQhLnaOlj6ZWg9A630wOu\n",
      "To: /Users/admin/Documents/GitHub/TrustEval-toolkit/examples/safety_llm/tmp.zip\n",
      "100%|██████████| 1.00M/1.00M [00:00<00:00, 3.34MB/s]"
     ]
    },
    {
     "name": "stdout",
     "output_type": "stream",
     "text": [
      "Extracting dataset to: /Users/admin/Documents/GitHub/TrustEval-toolkit/examples/safety_llm\n",
      "Removing temporary zip file: /Users/admin/Documents/GitHub/TrustEval-toolkit/examples/safety_llm/tmp.zip\n",
      "\u001b[92mDataset for section 'safety_llm' has been downloaded and extracted to '/Users/admin/Documents/GitHub/TrustEval-toolkit/examples/safety_llm'\u001b[0m\n"
     ]
    },
    {
     "name": "stderr",
     "output_type": "stream",
     "text": [
      "\n"
     ]
    }
   ],
   "source": [
    "from trusteval import download_metadata\n",
    "\n",
    "download_metadata(\n",
    "    section='safety_llm',\n",
    "    output_path=base_dir\n",
    ")"
   ]
  },
  {
   "cell_type": "code",
   "execution_count": null,
   "metadata": {},
   "outputs": [],
   "source": [
    "from trusteval.dimension.safety.safety_llm import pipeline\n",
    "\n",
    "pipeline.run(base_dir=base_dir)"
   ]
  },
  {
   "cell_type": "markdown",
   "metadata": {},
   "source": [
    "### Response Generator"
   ]
  },
  {
   "cell_type": "code",
   "execution_count": null,
   "metadata": {},
   "outputs": [],
   "source": [
    "from trusteval import generate_responses\n",
    "\n",
    "request_type = ['llm']\n",
    "data_folder = base_dir\n",
    "async_list = ['o1-mini', 'o1-preview']\n",
    "sync_list = []\n",
    "\n",
    "await generate_responses(\n",
    "    data_folder=data_folder,\n",
    "    request_type=request_type,\n",
    "    prompt_key='prompt',\n",
    "    async_list=async_list,\n",
    "    sync_list=sync_list,\n",
    ")"
   ]
  },
  {
   "cell_type": "markdown",
   "metadata": {},
   "source": [
    "### Judge Processor"
   ]
  },
  {
   "cell_type": "code",
   "execution_count": null,
   "metadata": {},
   "outputs": [],
   "source": [
    "from trusteval import judge_responses\n",
    "\n",
    "data_folder = base_dir\n",
    "target_models = ['qwq-32B', 'o1-mini', 'o1-preview']\n",
    "judge_type = 'llm'\n",
    "async_judge_model = ['gpt-4o-mini']\n",
    "\n",
    "await judge_responses(\n",
    "    data_folder=data_folder,\n",
    "    async_judge_model=async_judge_model,\n",
    "    target_models=target_models,\n",
    "    judge_type=judge_type,\n",
    "    judge_extension='_judge'\n",
    ")"
   ]
  },
  {
   "cell_type": "code",
   "execution_count": null,
   "metadata": {},
   "outputs": [],
   "source": [
    "from trusteval.src.evaluation import lm_metric\n",
    "\n",
    "lm_metric(\n",
    "    base_dir=base_dir,\n",
    "    aspect=\"safety_llm\",\n",
    "    model_list=async_list\n",
    ")"
   ]
  },
  {
   "cell_type": "code",
   "execution_count": null,
   "metadata": {},
   "outputs": [],
   "source": [
    "from trusteval import report_generator\n",
    "\n",
    "report_generator(\n",
    "    base_dir=base_dir,\n",
    "    model_type='llm',\n",
    "    aspect='Safety'\n",
    ")"
   ]
  }
 ],
 "metadata": {
  "kernelspec": {
   "display_name": "ML2023",
   "language": "python",
   "name": "python3"
  },
  "language_info": {
   "codemirror_mode": {
    "name": "ipython",
    "version": 3
   },
   "file_extension": ".py",
   "mimetype": "text/x-python",
   "name": "python",
   "nbconvert_exporter": "python",
   "pygments_lexer": "ipython3",
   "version": "3.9.16"
  }
 },
 "nbformat": 4,
 "nbformat_minor": 2
}
