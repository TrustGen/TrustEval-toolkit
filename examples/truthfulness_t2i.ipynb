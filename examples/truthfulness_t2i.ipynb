{
 "cells": [
  {
   "cell_type": "code",
   "execution_count": 1,
   "metadata": {},
   "outputs": [],
   "source": [
    "import os\n",
    "import sys\n",
    "import nest_asyncio\n",
    "nest_asyncio.apply()\n",
    "parent_dir = os.path.dirname(os.getcwd())\n",
    "sys.path.append(parent_dir)\n",
    "\n",
    "aspect='truthfulness'\n",
    "base_dir = os.getcwd() + f'/{aspect}_t2i'\n",
    "os.makedirs(base_dir, exist_ok=True)\n",
    "local_models = []\n",
    "api_models = ['dalle3']\n",
    "target_models = [ 'dalle3']"
   ]
  },
  {
   "cell_type": "code",
   "execution_count": 2,
   "metadata": {},
   "outputs": [
    {
     "name": "stdout",
     "output_type": "stream",
     "text": [
      "Generating 50 prompts with 1 files\n",
      "Complexities: range(3, 9)\n",
      "Attributes: range(0, 6)\n"
     ]
    }
   ],
   "source": [
    "from trusteval.dimension.truthfulness.truthfulness_t2i import dynamic_dataset_generator\n",
    "dynamic_dataset_generator(\n",
    "    base_dir=base_dir\n",
    ")"
   ]
  },
  {
   "cell_type": "code",
   "execution_count": 3,
   "metadata": {},
   "outputs": [
    {
     "name": "stdout",
     "output_type": "stream",
     "text": [
      "\u001b[96mProcessing data: d:\\Paper\\TrustEval-toolkit\\examples/truthfulness_t2i/truthfulness_final_descriptions.json\u001b[0m\n",
      "\u001b[95mProcessing model: dalle3\u001b[0m\n"
     ]
    },
    {
     "name": "stderr",
     "output_type": "stream",
     "text": [
      "Generating images: 100%|██████████| 9/9 [00:00<00:00, 2996.88image/s]"
     ]
    },
    {
     "name": "stdout",
     "output_type": "stream",
     "text": [
      "Skipping generation because d:\\Paper\\TrustEval-toolkit\\examples/truthfulness_t2i\\images/dalle3/0.jpg already exists.\n",
      "Skipping generation because d:\\Paper\\TrustEval-toolkit\\examples/truthfulness_t2i\\images/dalle3/1.jpg already exists.\n",
      "Skipping generation because d:\\Paper\\TrustEval-toolkit\\examples/truthfulness_t2i\\images/dalle3/2.jpg already exists.\n",
      "Skipping generation because d:\\Paper\\TrustEval-toolkit\\examples/truthfulness_t2i\\images/dalle3/3.jpg already exists.\n",
      "Skipping generation because d:\\Paper\\TrustEval-toolkit\\examples/truthfulness_t2i\\images/dalle3/4.jpg already exists.\n",
      "Skipping generation because d:\\Paper\\TrustEval-toolkit\\examples/truthfulness_t2i\\images/dalle3/5.jpg already exists.\n",
      "Skipping generation because d:\\Paper\\TrustEval-toolkit\\examples/truthfulness_t2i\\images/dalle3/6.jpg already exists.\n",
      "Skipping generation because d:\\Paper\\TrustEval-toolkit\\examples/truthfulness_t2i\\images/dalle3/7.jpg already exists.\n",
      "Skipping generation because d:\\Paper\\TrustEval-toolkit\\examples/truthfulness_t2i\\images/dalle3/8.jpg already exists.\n"
     ]
    },
    {
     "name": "stderr",
     "output_type": "stream",
     "text": [
      "\n"
     ]
    }
   ],
   "source": [
    "import trusteval\n",
    "\n",
    "trusteval.generate_images(\n",
    "    base_dir=base_dir,\n",
    "    aspect=aspect,\n",
    "    local_models=local_models,\n",
    "    api_models=api_models,\n",
    ")"
   ]
  },
  {
   "cell_type": "code",
   "execution_count": 3,
   "metadata": {},
   "outputs": [
    {
     "name": "stdout",
     "output_type": "stream",
     "text": [
      "Processing d:\\Paper\\TrustEval-toolkit\\examples/truthfulness_t2i/truthfulness_final_images.json with dalle3 using api\n"
     ]
    },
    {
     "name": "stderr",
     "output_type": "stream",
     "text": [
      "100%|██████████| 9/9 [00:23<00:00,  2.62s/it]\n"
     ]
    }
   ],
   "source": [
    "trusteval.judge_images(\n",
    "    base_dir=base_dir,\n",
    "    aspect=aspect,\n",
    "    handler_type='api',\n",
    "    target_models=target_models\n",
    ")"
   ]
  },
  {
   "cell_type": "code",
   "execution_count": 4,
   "metadata": {},
   "outputs": [
    {
     "name": "stderr",
     "output_type": "stream",
     "text": [
      "Processing truthfulness metrics: 100%|██████████| 9/9 [00:00<?, ?it/s]"
     ]
    },
    {
     "name": "stdout",
     "output_type": "stream",
     "text": [
      "Metrics successfully exported to d:\\Paper\\TrustEval-toolkit\\examples/truthfulness_t2i\\truthfulness_metrics.csv\n"
     ]
    },
    {
     "name": "stderr",
     "output_type": "stream",
     "text": [
      "\n"
     ]
    }
   ],
   "source": [
    "trusteval.t2i_metric(\n",
    "    base_dir=base_dir,\n",
    "    aspect=aspect,\n",
    "    target_models=target_models\n",
    ")"
   ]
  }
 ],
 "metadata": {
  "kernelspec": {
   "display_name": "dl",
   "language": "python",
   "name": "python3"
  },
  "language_info": {
   "codemirror_mode": {
    "name": "ipython",
    "version": 3
   },
   "file_extension": ".py",
   "mimetype": "text/x-python",
   "name": "python",
   "nbconvert_exporter": "python",
   "pygments_lexer": "ipython3",
   "version": "3.9.19"
  }
 },
 "nbformat": 4,
 "nbformat_minor": 2
}
