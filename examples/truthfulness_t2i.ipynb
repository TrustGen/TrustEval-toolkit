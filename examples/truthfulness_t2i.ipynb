{
 "cells": [
  {
   "cell_type": "code",
   "execution_count": null,
   "metadata": {},
   "outputs": [],
   "source": [
    "import os\n",
    "import sys\n",
    "import nest_asyncio\n",
    "nest_asyncio.apply()\n",
    "parent_dir = os.path.dirname(os.getcwd())\n",
    "sys.path.append(parent_dir)\n",
    "\n",
    "aspect='truthfulness'\n",
    "base_dir = os.getcwd() + f'/{aspect}_t2i'\n",
    "os.makedirs(base_dir, exist_ok=True)\n",
    "local_models = []\n",
    "api_models = ['dalle3']\n",
    "target_models = [ 'dalle3']"
   ]
  },
  {
   "cell_type": "code",
   "execution_count": null,
   "metadata": {},
   "outputs": [],
   "source": [
    "from trusteval.dimension.truthfulness.truthfulness_t2i import dynamic_dataset_generator\n",
    "dynamic_dataset_generator(\n",
    "    base_dir=base_dir\n",
    ")"
   ]
  },
  {
   "cell_type": "code",
   "execution_count": null,
   "metadata": {},
   "outputs": [],
   "source": [
    "import trusteval\n",
    "\n",
    "trusteval.generate_images(\n",
    "    base_dir=base_dir,\n",
    "    aspect=aspect,\n",
    "    local_models=local_models,\n",
    "    api_models=api_models,\n",
    ")"
   ]
  },
  {
   "cell_type": "code",
   "execution_count": null,
   "metadata": {},
   "outputs": [],
   "source": [
    "trusteval.judge_images(\n",
    "    base_dir=base_dir,\n",
    "    aspect=aspect,\n",
    "    handler_type='api',\n",
    "    target_models=target_models\n",
    ")"
   ]
  },
  {
   "cell_type": "code",
   "execution_count": null,
   "metadata": {},
   "outputs": [],
   "source": [
    "trusteval.t2i_metric(\n",
    "    base_dir=base_dir,\n",
    "    aspect=aspect,\n",
    "    target_models=target_models\n",
    ")"
   ]
  }
 ],
 "metadata": {
  "kernelspec": {
   "display_name": "dl",
   "language": "python",
   "name": "python3"
  },
  "language_info": {
   "codemirror_mode": {
    "name": "ipython",
    "version": 3
   },
   "file_extension": ".py",
   "mimetype": "text/x-python",
   "name": "python",
   "nbconvert_exporter": "python",
   "pygments_lexer": "ipython3",
   "version": "3.9.19"
  }
 },
 "nbformat": 4,
 "nbformat_minor": 2
}
