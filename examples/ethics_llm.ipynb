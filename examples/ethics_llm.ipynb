{
 "cells": [
  {
   "cell_type": "code",
   "execution_count": null,
   "metadata": {},
   "outputs": [],
   "source": [
    "import os\n",
    "import sys\n",
    "import nest_asyncio\n",
    "nest_asyncio.apply()\n",
    "parent_dir = os.path.dirname(os.getcwd())\n",
    "sys.path.append(parent_dir)\n",
    "from trusteval.dimension.ethics.ethics_llm import pipeline\n",
    "\n",
    "base_dir = os.getcwd() + \"./test/ethics/\"\n",
    "os.makedirs(base_dir, exist_ok=True)"
   ]
  },
  {
   "cell_type": "code",
   "execution_count": null,
   "metadata": {},
   "outputs": [],
   "source": [
    "from trusteval import download_metadata\n",
    "download_metadata(\n",
    "    section='ethics_llm',\n",
    "    output_path=base_dir\n",
    ")"
   ]
  },
  {
   "cell_type": "code",
   "execution_count": null,
   "metadata": {},
   "outputs": [],
   "source": [
    "await pipeline.pipeline(base_dir=base_dir)"
   ]
  },
  {
   "cell_type": "code",
   "execution_count": null,
   "metadata": {},
   "outputs": [],
   "source": [
    "from trusteval import contextual_variator_cli\n",
    "import shutil\n",
    "\n",
    "source_config = \"../section/ethics/ethics_llm/file_config_ethics.json\"\n",
    "target_config = os.path.join(base_dir,'data',\"file_config.json\")\n",
    "\n",
    "if os.path.exists(source_config):\n",
    "    shutil.copy2(source_config, target_config)\n",
    "    print(f\"Successfully copied file_config to {target_config}\")\n",
    "else:\n",
    "    print(\"Warning: Source file_config not found\")\n",
    "\n",
    "dataset_folder = os.path.join(base_dir,'data')\n",
    "contextual_variator_cli(\n",
    "    dataset_folder=dataset_folder\n",
    ")"
   ]
  },
  {
   "cell_type": "code",
   "execution_count": null,
   "metadata": {},
   "outputs": [],
   "source": [
    "from trusteval.src.response_generator.lm_response import generate_responses\n",
    "import shutil\n",
    "\n",
    "source_config = \"../trusteval/dimension/ethics/ethics_llm/data/file_config.json\"\n",
    "target_config = os.path.join(base_dir,'data',\"file_config.json\")\n",
    "\n",
    "if os.path.exists(source_config):\n",
    "    shutil.copy2(source_config, target_config)\n",
    "    print(f\"Successfully copied file_config to {target_config}\")\n",
    "else:\n",
    "    print(\"Warning: Source file_config not found\")\n",
    "    \n",
    "dataset_folder = os.path.join(base_dir,'data')\n",
    "\n",
    "async_list = ['o1-preview','o1-mini','qwq-32B']\n",
    "\n",
    "await generate_responses(\n",
    "        data_folder=dataset_folder,\n",
    "        request_type=\"llm\",\n",
    "        async_list=async_list,\n",
    "        prompt_key=\"enhanced_prompt\",\n",
    "        result_key=\"responses\"\n",
    "    )\n",
    "\n",
    "print(\"All files processed.\")"
   ]
  },
  {
   "cell_type": "code",
   "execution_count": null,
   "metadata": {},
   "outputs": [],
   "source": [
    "from trusteval.src.evaluation import judge_responses\n",
    "\n",
    "config_path = os.path.join(parent_dir, 'trusteval/src/config/judge_prompt.yaml')\n",
    "async_judge_model = ['gpt-4o-mini']\n",
    "response_key = ['responses']\n",
    "judge_key = 'judge'\n",
    "judge_type='llm'\n",
    "await judge_responses(\n",
    "        data_folder=dataset_folder,\n",
    "        async_judge_model=async_judge_model,\n",
    "        target_models=async_list,\n",
    "        judge_type=judge_type\n",
    "    )"
   ]
  },
  {
   "cell_type": "code",
   "execution_count": null,
   "metadata": {},
   "outputs": [],
   "source": [
    "from trusteval.src.evaluation import lm_metric\n",
    "\n",
    "lm_metric(\n",
    "    base_dir=base_dir,\n",
    "    aspect=\"ethics_llm\",\n",
    "    model_list=async_list\n",
    ")"
   ]
  }
 ],
 "metadata": {
  "kernelspec": {
   "display_name": "api",
   "language": "python",
   "name": "python3"
  },
  "language_info": {
   "codemirror_mode": {
    "name": "ipython",
    "version": 3
   },
   "file_extension": ".py",
   "mimetype": "text/x-python",
   "name": "python",
   "nbconvert_exporter": "python",
   "pygments_lexer": "ipython3",
   "version": "3.10.14"
  }
 },
 "nbformat": 4,
 "nbformat_minor": 2
}
