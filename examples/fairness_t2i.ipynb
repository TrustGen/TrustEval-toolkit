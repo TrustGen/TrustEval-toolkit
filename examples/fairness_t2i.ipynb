{
 "cells": [
  {
   "cell_type": "markdown",
   "metadata": {},
   "source": [
    "## Fairness T2I"
   ]
  },
  {
   "cell_type": "code",
   "execution_count": 1,
   "metadata": {},
   "outputs": [],
   "source": [
    "import os\n",
    "import sys\n",
    "import nest_asyncio\n",
    "nest_asyncio.apply()\n",
    "parent_dir = os.path.dirname(os.getcwd())\n",
    "sys.path.append(parent_dir)\n",
    "\n",
    "aspect='fairness'\n",
    "base_dir = os.getcwd() + f'/{aspect}_t2i/final'\n",
    "local_models = []\n",
    "api_models = ['dalle3']\n",
    "target_models = ['sd-3.5-large-turbo', 'playground-v2.5', 'sd-3.5-large', 'HunyuanDiT', 'kolors', 'dalle3', 'flux-1.1-pro', 'cogview-3-plus']"
   ]
  },
  {
   "cell_type": "code",
   "execution_count": null,
   "metadata": {},
   "outputs": [],
   "source": [
    "from trusteval import download_metadata\n",
    "\n",
    "download_metadata(\n",
    "    section=f'{aspect}_t2i',\n",
    "    output_path=base_dir,\n",
    ")"
   ]
  },
  {
   "cell_type": "code",
   "execution_count": null,
   "metadata": {},
   "outputs": [],
   "source": [
    "from trusteval.dimension.fairness.fairness_t2i import dynamic_dataset_generator\n",
    "\n",
    "dynamic_dataset_generator(\n",
    "    base_dir=base_dir\n",
    ")"
   ]
  },
  {
   "cell_type": "code",
   "execution_count": null,
   "metadata": {},
   "outputs": [],
   "source": [
    "from trusteval import generate_images\n",
    "generate_images(\n",
    "    base_dir=base_dir,\n",
    "    aspect=aspect,\n",
    "    local_models=local_models,\n",
    "    api_models=api_models,\n",
    ")"
   ]
  },
  {
   "cell_type": "code",
   "execution_count": null,
   "metadata": {},
   "outputs": [],
   "source": [
    "from trusteval import judge_images\n",
    "\n",
    "judge_images(\n",
    "    base_dir=base_dir,\n",
    "    aspect=aspect,\n",
    "    handler_type='api',\n",
    "    target_models=target_models\n",
    ")"
   ]
  },
  {
   "cell_type": "code",
   "execution_count": null,
   "metadata": {},
   "outputs": [],
   "source": [
    "from trusteval import t2i_metric\n",
    "\n",
    "t2i_metric(\n",
    "    base_dir=base_dir,\n",
    "    aspect=aspect,\n",
    "    target_models=target_models\n",
    ")"
   ]
  },
  {
   "cell_type": "code",
   "execution_count": null,
   "metadata": {},
   "outputs": [],
   "source": [
    "from trusteval import report_generator\n",
    "\n",
    "report_generator(\n",
    "    base_dir=base_dir,\n",
    "    model_type='t2i',\n",
    "    aspect='Fairness',\n",
    ")"
   ]
  }
 ],
 "metadata": {
  "kernelspec": {
   "display_name": "dl",
   "language": "python",
   "name": "python3"
  },
  "language_info": {
   "codemirror_mode": {
    "name": "ipython",
    "version": 3
   },
   "file_extension": ".py",
   "mimetype": "text/x-python",
   "name": "python",
   "nbconvert_exporter": "python",
   "pygments_lexer": "ipython3",
   "version": "3.9.19"
  }
 },
 "nbformat": 4,
 "nbformat_minor": 2
}
