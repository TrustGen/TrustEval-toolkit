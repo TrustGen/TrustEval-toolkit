{
 "cells": [
  {
   "cell_type": "markdown",
   "metadata": {},
   "source": [
    "## Fairness VLM\n"
   ]
  },
  {
   "cell_type": "markdown",
   "metadata": {},
   "source": [
    "For detailed documentation, including API references, tutorials, and best practices, please visit our comprehensive documentation site:\n",
    "\n",
    "[TrustEval Documentation](https://trustgen.github.io/trustgen_docs/)"
   ]
  },
  {
   "cell_type": "code",
   "execution_count": 1,
   "metadata": {},
   "outputs": [],
   "source": [
    "import os\n",
    "import sys\n",
    "import nest_asyncio\n",
    "nest_asyncio.apply()\n",
    "\n",
    "parent_dir = os.path.dirname(os.getcwd())\n",
    "sys.path.append(parent_dir)\n",
    "\n",
    "base_dir = os.path.abspath(\"./test/fairness_vlm/\")"
   ]
  },
  {
   "cell_type": "markdown",
   "metadata": {},
   "source": [
    "### Metadata Curator\n"
   ]
  },
  {
   "cell_type": "code",
   "execution_count": null,
   "metadata": {},
   "outputs": [],
   "source": [
    "from trusteval.src.download import download_metadata\n",
    "download_metadata('fairness_vlm', base_dir)"
   ]
  },
  {
   "cell_type": "code",
   "execution_count": null,
   "metadata": {},
   "outputs": [],
   "source": [
    "from trusteval.dimension import fairness_vlm\n",
    "fairness_vlm(base_dir=base_dir)"
   ]
  },
  {
   "cell_type": "markdown",
   "metadata": {},
   "source": [
    "### Contexual Variator"
   ]
  },
  {
   "cell_type": "code",
   "execution_count": null,
   "metadata": {},
   "outputs": [],
   "source": [
    "from trusteval.src import contextual_variator_cli\n",
    "import shutil\n",
    "source_config = os.path.join(parent_dir,\"trusteval\",\"dimension\",\"fairness\",'fairness_vlm','file_config.json')\n",
    "\n",
    "target_config = os.path.join(base_dir,\"file_config.json\")\n",
    "if os.path.exists(source_config):\n",
    "    shutil.copy2(source_config, target_config)\n",
    "    print(f\"Successfully copied file_config to {target_config}\")\n",
    "else:\n",
    "    print(\"Warning: Source file_config not found\")\n",
    "\n",
    "contextual_variator_cli(\n",
    "    dataset_folder=base_dir\n",
    ")"
   ]
  },
  {
   "cell_type": "markdown",
   "metadata": {},
   "source": [
    "### Response Generator"
   ]
  },
  {
   "cell_type": "code",
   "execution_count": null,
   "metadata": {},
   "outputs": [],
   "source": [
    "from trusteval.src import generate_responses\n",
    "\n",
    "request_type = ['vlm']\n",
    "\n",
    "\n",
    "async_list = ['gpt-4o', 'gpt-4o-mini', 'claude-3.5-sonnet', 'claude-3-haiku', 'gemini-1.5-pro','glm-4v-plus' ]\n",
    "image_key = 'image_path'\n",
    "await generate_responses(\n",
    "    data_folder=base_dir,\n",
    "    request_type=request_type,\n",
    "    async_list=async_list,\n",
    "    image_key=image_key\n",
    ")"
   ]
  },
  {
   "cell_type": "markdown",
   "metadata": {},
   "source": [
    "### Judge Processor"
   ]
  },
  {
   "cell_type": "code",
   "execution_count": null,
   "metadata": {},
   "outputs": [],
   "source": [
    "from trusteval.src.evaluation import judge_responses\n",
    "async_list = ['gpt-4o', 'gpt-4o-mini', 'claude-3.5-sonnet', 'claude-3-haiku', 'gemini-1.5-pro','glm-4v-plus' ]\n",
    "target_models = async_list\n",
    "judge_type = 'llm'\n",
    "judge_model = ['gpt-4o-mini']\n",
    "config_path = os.path.join(parent_dir, 'trusteval/src/config/judge_prompt.yaml')\n",
    "\n",
    "await judge_responses(\n",
    "    data_folder=base_dir,\n",
    "    async_judge_model=judge_model,\n",
    "    target_models=target_models,\n",
    "    judge_type=judge_type,\n",
    ")"
   ]
  },
  {
   "cell_type": "markdown",
   "metadata": {},
   "source": [
    "### Metrics"
   ]
  },
  {
   "cell_type": "code",
   "execution_count": null,
   "metadata": {},
   "outputs": [],
   "source": [
    "from trusteval.src.evaluation import lm_metric\n",
    "\n",
    "lm_metric(\n",
    "    base_dir=base_dir,\n",
    "    aspect=\"fairness_vlm\",\n",
    "    model_list=async_list\n",
    ")"
   ]
  },
  {
   "cell_type": "markdown",
   "metadata": {},
   "source": [
    "### Report"
   ]
  },
  {
   "cell_type": "code",
   "execution_count": null,
   "metadata": {},
   "outputs": [],
   "source": [
    "import nest_asyncio\n",
    "nest_asyncio.apply()\n",
    "parent_dir = os.path.dirname(os.getcwd())\n",
    "sys.path.append(parent_dir)\n",
    "\n",
    "from trusteval import report_generator\n",
    "\n",
    "report_generator(\n",
    "    base_dir=base_dir,\n",
    "    aspect='Fairness',\n",
    "    model_type='vlm',\n",
    ")"
   ]
  }
 ],
 "metadata": {
  "kernelspec": {
   "display_name": "dl",
   "language": "python",
   "name": "python3"
  },
  "language_info": {
   "codemirror_mode": {
    "name": "ipython",
    "version": 3
   },
   "file_extension": ".py",
   "mimetype": "text/x-python",
   "name": "python",
   "nbconvert_exporter": "python",
   "pygments_lexer": "ipython3",
   "version": "3.9.19"
  }
 },
 "nbformat": 4,
 "nbformat_minor": 2
}
