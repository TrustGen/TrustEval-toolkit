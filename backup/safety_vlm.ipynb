{
 "cells": [
  {
   "cell_type": "code",
   "execution_count": 1,
   "metadata": {},
   "outputs": [],
   "source": [
    "import os\n",
    "import sys\n",
    "import nest_asyncio\n",
    "nest_asyncio.apply()\n",
    "\n",
    "parent_dir = os.path.dirname(os.getcwd())\n",
    "base_dir = os.getcwd() + '/safety_vlm'\n",
    "sys.path.append(parent_dir)"
   ]
  },
  {
   "cell_type": "code",
   "execution_count": 2,
   "metadata": {},
   "outputs": [
    {
     "name": "stdout",
     "output_type": "stream",
     "text": [
      "Created directory: d:\\Paper\\TrustEval-toolkit\\examples/safety_vlm\n",
      "Downloading dataset for section: safety_vlm\n"
     ]
    },
    {
     "name": "stderr",
     "output_type": "stream",
     "text": [
      "Downloading...\n",
      "From: https://drive.google.com/uc?id=1cR5dEQbc0nTYkXGhksm_p_GWnNwr2QHJ\n",
      "To: d:\\Paper\\TrustEval-toolkit\\examples\\safety_vlm\\tmp.zip\n",
      "100%|██████████| 171k/171k [00:00<00:00, 506kB/s]"
     ]
    },
    {
     "name": "stdout",
     "output_type": "stream",
     "text": [
      "Extracting dataset to: d:\\Paper\\TrustEval-toolkit\\examples/safety_vlm\n",
      "Removing temporary zip file: d:\\Paper\\TrustEval-toolkit\\examples/safety_vlm\\tmp.zip\n",
      "\u001b[92mDataset for section 'safety_vlm' has been downloaded and extracted to 'd:\\Paper\\TrustEval-toolkit\\examples/safety_vlm'\u001b[0m\n"
     ]
    },
    {
     "name": "stderr",
     "output_type": "stream",
     "text": [
      "\n"
     ]
    }
   ],
   "source": [
    "from trusteval import download_metadata\n",
    "\n",
    "download_metadata(\n",
    "    section='safety_vlm',\n",
    "    output_path=base_dir,\n",
    ")"
   ]
  },
  {
   "cell_type": "code",
   "execution_count": 5,
   "metadata": {},
   "outputs": [
    {
     "name": "stderr",
     "output_type": "stream",
     "text": [
      "Running tasks:   0%|          | 0/5 [00:00<?, ?it/s]"
     ]
    },
    {
     "name": "stdout",
     "output_type": "stream",
     "text": [
      "keywords:humiliation images,embarrassing photos,shameful pictures\n",
      "Searching for images: humiliation images,embarrassing photos,shameful pictures\n",
      "Processed 35 results and saved to d:\\Paper\\TrustEval-toolkit\\examples/safety_vlm\\Images/temp_images/jailbreakInPieces_searched_1.json\n"
     ]
    },
    {
     "name": "stderr",
     "output_type": "stream",
     "text": [
      "d:\\CS\\Anaconda\\envs\\dl\\lib\\site-packages\\torch\\nn\\functional.py:5504: UserWarning: 1Torch was not compiled with flash attention. (Triggered internally at C:\\actions-runner\\_work\\pytorch\\pytorch\\builder\\windows\\pytorch\\aten\\src\\ATen\\native\\transformers\\cuda\\sdp_utils.cpp:455.)\n",
      "  attn_output = scaled_dot_product_attention(q, k, v, attn_mask, dropout_p, is_causal)\n",
      "Running tasks:  20%|██        | 1/5 [00:36<02:24, 36.12s/it]"
     ]
    },
    {
     "name": "stdout",
     "output_type": "stream",
     "text": [
      "Time taken: 24.8 seconds\n",
      "JailbreakInPieces_main completed\n"
     ]
    },
    {
     "name": "stderr",
     "output_type": "stream",
     "text": [
      "100%|██████████| 2/2 [00:08<00:00,  4.31s/it]\n",
      "Running tasks:  40%|████      | 2/5 [00:44<00:59, 19.95s/it]"
     ]
    },
    {
     "name": "stdout",
     "output_type": "stream",
     "text": [
      "figstep_main completed\n"
     ]
    },
    {
     "name": "stderr",
     "output_type": "stream",
     "text": [
      "Running tasks:  60%|██████    | 3/5 [00:50<00:26, 13.28s/it]"
     ]
    },
    {
     "name": "stdout",
     "output_type": "stream",
     "text": [
      "MMSafetyBench_main completed\n"
     ]
    },
    {
     "name": "stderr",
     "output_type": "stream",
     "text": [
      "Running tasks: 100%|██████████| 5/5 [01:21<00:00, 16.31s/it]"
     ]
    },
    {
     "name": "stdout",
     "output_type": "stream",
     "text": [
      "VisualRolePlay_main completed\n",
      "VisualAdvEx_main completed\n"
     ]
    },
    {
     "name": "stderr",
     "output_type": "stream",
     "text": [
      "\n"
     ]
    }
   ],
   "source": [
    "from trusteval.dimension.safety.safety_vlm import dynamic_dataset_generator\n",
    "\n",
    "dynamic_dataset_generator( \n",
    "    base_dir=base_dir,\n",
    ")"
   ]
  },
  {
   "cell_type": "code",
   "execution_count": null,
   "metadata": {},
   "outputs": [],
   "source": []
  }
 ],
 "metadata": {
  "kernelspec": {
   "display_name": "dl",
   "language": "python",
   "name": "python3"
  },
  "language_info": {
   "codemirror_mode": {
    "name": "ipython",
    "version": 3
   },
   "file_extension": ".py",
   "mimetype": "text/x-python",
   "name": "python",
   "nbconvert_exporter": "python",
   "pygments_lexer": "ipython3",
   "version": "3.9.19"
  }
 },
 "nbformat": 4,
 "nbformat_minor": 2
}
