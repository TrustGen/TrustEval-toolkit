{
 "cells": [
  {
   "cell_type": "markdown",
   "metadata": {},
   "source": [
    "## Fairness LLM\n",
    "### Metadata Curator"
   ]
  },
  {
   "cell_type": "code",
   "execution_count": null,
   "metadata": {},
   "outputs": [],
   "source": [
    "import os\n",
    "import sys\n",
    "import nest_asyncio\n",
    "nest_asyncio.apply()\n",
    "parent_dir = os.path.dirname(os.getcwd())\n",
    "base_dir = os.getcwd() + '/fairness_llm'\n",
    "sys.path.append(parent_dir)\n",
    "from download import download_dataset\n",
    "from section.fairness.fairness_llm.pipeline import main"
   ]
  },
  {
   "cell_type": "markdown",
   "metadata": {},
   "source": [
    "### Download and build the dataset_pool"
   ]
  },
  {
   "cell_type": "code",
   "execution_count": null,
   "metadata": {},
   "outputs": [],
   "source": [
    "download_dataset(\n",
    "    section='fairness_llm',\n",
    "    output_path=base_dir+'/metadata'\n",
    ")"
   ]
  },
  {
   "cell_type": "code",
   "execution_count": null,
   "metadata": {},
   "outputs": [],
   "source": [
    "main(base_dir=base_dir)"
   ]
  },
  {
   "cell_type": "markdown",
   "metadata": {},
   "source": [
    "### Retrieve and build the dynamic dataset"
   ]
  },
  {
   "cell_type": "code",
   "execution_count": null,
   "metadata": {},
   "outputs": [],
   "source": [
    "main(\n",
    "    base_dir=base_dir,\n",
    "    mode='dynamic'\n",
    ")"
   ]
  },
  {
   "cell_type": "markdown",
   "metadata": {},
   "source": [
    "### Contexual Variator"
   ]
  },
  {
   "cell_type": "code",
   "execution_count": null,
   "metadata": {},
   "outputs": [],
   "source": [
    "from src.contextual_variator import contextual_variator_cli\n",
    "\n",
    "contextual_variator_cli(\n",
    "    dataset_folder=base_dir + '/final'\n",
    ")"
   ]
  },
  {
   "cell_type": "markdown",
   "metadata": {},
   "source": [
    "### Response Generator"
   ]
  },
  {
   "cell_type": "code",
   "execution_count": null,
   "metadata": {},
   "outputs": [],
   "source": [
    "from src.response_generator.lm_responses import process_data_folder\n",
    "\n",
    "request_type = ['llm']\n",
    "data_folder = base_dir + '/final'\n",
    "# async_list=['gpt-4o', 'gpt-4o-mini',\"gpt-3.5-turbo\", 'claude-3.5-sonnet', 'claude-3-haiku', 'gemini-1.5-pro',       \n",
    "#             'gemini-1.5-flash', 'gemma-2-27B', 'llama-3.1-70B','llama-3.1-8B', 'glm-4-plus', 'qwen-2.5-72B', \n",
    "#             'mistral-8x7B' ,\"mistral-8x22B\", \"yi-lightning\", 'deepseek-chat']\n",
    "\n",
    "async_list = ['gpt-4o-mini', 'llama-3.1-8B']\n",
    "sync_list = []\n",
    "\n",
    "prompt_key = 'prompt'\n",
    "result_key = 'responses'\n",
    "file_name_extension = '_responses'\n",
    "\n",
    "await process_data_folder(\n",
    "    data_folder=data_folder,\n",
    "    request_type=request_type,\n",
    "    async_list=async_list,\n",
    "    sync_list=sync_list,\n",
    "    prompt_key=prompt_key,\n",
    "    result_key=result_key,\n",
    "    file_name_extension=file_name_extension,\n",
    ")"
   ]
  },
  {
   "cell_type": "markdown",
   "metadata": {},
   "source": [
    "### Judge Processor"
   ]
  },
  {
   "cell_type": "code",
   "execution_count": null,
   "metadata": {},
   "outputs": [],
   "source": [
    "from src.evaluation import judge_response\n",
    "\n",
    "data_folder = base_dir + '/final'\n",
    "\n",
    "target_models = ['llama-3.1-8B', 'gpt-4o-mini']\n",
    "\n",
    "judge_type = 'llm'\n",
    "judge_key = 'toxicity' if judge_type == 'toxicity' else 'judge'\n",
    "response_key = ['responses']\n",
    "\n",
    "async_judge_model = ['gpt-4o-mini']\n",
    "\n",
    "config_path = os.path.join(parent_dir, 'src/config/judge_prompt.yaml')\n",
    "\n",
    "await judge_response(\n",
    "    data_folder=data_folder,\n",
    "    async_judge_model=async_judge_model,\n",
    "    target_models=target_models,\n",
    "    judge_type=judge_type,\n",
    "    config_path=config_path,\n",
    "    response_key=response_key,\n",
    "    judge_key=judge_key,\n",
    "    response_extension='_responses',\n",
    "    judge_extension='_judge',\n",
    "    reverse_choice=False\n",
    ")"
   ]
  },
  {
   "cell_type": "code",
   "execution_count": null,
   "metadata": {},
   "outputs": [],
   "source": [
    "from section.truthfulness.truthfulness_llm.evaluate import run, merge_results\n",
    "print(base_dir)\n",
    "run(base_dir + '/final/')\n",
    "merge_results(base_dir + '/final/')"
   ]
  }
 ],
 "metadata": {
  "kernelspec": {
   "display_name": "dl",
   "language": "python",
   "name": "python3"
  },
  "language_info": {
   "codemirror_mode": {
    "name": "ipython",
    "version": 3
   },
   "file_extension": ".py",
   "mimetype": "text/x-python",
   "name": "python",
   "nbconvert_exporter": "python",
   "pygments_lexer": "ipython3",
   "version": "3.9.19"
  }
 },
 "nbformat": 4,
 "nbformat_minor": 2
}
