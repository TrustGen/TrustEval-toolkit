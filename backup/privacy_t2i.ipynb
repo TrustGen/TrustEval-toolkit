{
 "cells": [
  {
   "cell_type": "markdown",
   "metadata": {},
   "source": [
    "## Privacy T2I"
   ]
  },
  {
   "cell_type": "code",
   "execution_count": null,
   "metadata": {},
   "outputs": [],
   "source": [
    "import os\n",
    "import sys\n",
    "import nest_asyncio\n",
    "nest_asyncio.apply()\n",
    "parent_dir = os.path.dirname(os.getcwd())\n",
    "sys.path.append(parent_dir)\n",
    "from download import download_dataset\n",
    "from section.privacy.privacy_t2i import dynamic_dataset_generator\n",
    "\n",
    "aspect='privacy'\n",
    "base_dir = os.getcwd() + f'/{aspect}_t2i'\n",
    "local_models = []\n",
    "api_models = ['dalle3', 'flux-1.1-pro', 'cogview-3-plus']\n",
    "vlm_list = ['dalle3', 'flux-1.1-pro', 'cogview-3-plus']"
   ]
  },
  {
   "cell_type": "code",
   "execution_count": null,
   "metadata": {},
   "outputs": [],
   "source": [
    "download_dataset(\n",
    "    section=f'{aspect}_t2i',\n",
    "    output_path=base_dir\n",
    ")"
   ]
  },
  {
   "cell_type": "code",
   "execution_count": null,
   "metadata": {},
   "outputs": [],
   "source": [
    "dynamic_dataset_generator(\n",
    "    base_dir=base_dir\n",
    ")"
   ]
  },
  {
   "cell_type": "code",
   "execution_count": null,
   "metadata": {},
   "outputs": [],
   "source": [
    "from src.response_generator import generate_images\n",
    "\n",
    "generate_images(\n",
    "    base_dir=base_dir,\n",
    "    aspect=aspect,\n",
    "    local_models=local_models,\n",
    "    api_models=api_models,\n",
    ")"
   ]
  },
  {
   "cell_type": "code",
   "execution_count": null,
   "metadata": {},
   "outputs": [],
   "source": [
    "from src.evaluation import judge_images\n",
    "judge_images(\n",
    "    base_dir=base_dir,\n",
    "    aspect=aspect,\n",
    "    vlm_list=vlm_list\n",
    ")"
   ]
  },
  {
   "cell_type": "code",
   "execution_count": null,
   "metadata": {},
   "outputs": [],
   "source": [
    "from src.evaluation import metric_generation\n",
    "metric_generation(\n",
    "    base_dir=base_dir,\n",
    "    aspect=aspect,\n",
    "    vlm_list=vlm_list\n",
    ")"
   ]
  }
 ],
 "metadata": {
  "kernelspec": {
   "display_name": "dl",
   "language": "python",
   "name": "python3"
  },
  "language_info": {
   "codemirror_mode": {
    "name": "ipython",
    "version": 3
   },
   "file_extension": ".py",
   "mimetype": "text/x-python",
   "name": "python",
   "nbconvert_exporter": "python",
   "pygments_lexer": "ipython3",
   "version": "3.9.19"
  }
 },
 "nbformat": 4,
 "nbformat_minor": 2
}
